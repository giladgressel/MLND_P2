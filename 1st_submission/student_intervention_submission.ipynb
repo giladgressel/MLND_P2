{
 "cells": [
  {
   "cell_type": "markdown",
   "metadata": {},
   "source": [
    "# Project 2: Supervised Learning\n",
    "### Building a Student Intervention System"
   ]
  },
  {
   "cell_type": "markdown",
   "metadata": {},
   "source": [
    "## 1. Classification vs Regression\n",
    "\n",
    "Your goal is to identify students who might need early intervention - which type of supervised machine learning problem is this, classification or regression? Why?"
   ]
  },
  {
   "cell_type": "markdown",
   "metadata": {},
   "source": [
    "## 2. Exploring the Data\n",
    "\n",
    "Let's go ahead and read in the student dataset first.\n",
    "\n",
    "_To execute a code cell, click inside it and press **Shift+Enter**._"
   ]
  },
  {
   "cell_type": "code",
   "execution_count": 29,
   "metadata": {
    "collapsed": false,
    "scrolled": true
   },
   "outputs": [],
   "source": [
    "# Import libraries\n",
    "import numpy as np\n",
    "import pandas as pd\n",
    "from sklearn import cross_validation\n",
    "from sklearn.metrics import make_scorer\n",
    "from sklearn.grid_search import GridSearchCV\n",
    "from sklearn.metrics import f1_score\n",
    "from sklearn import svm\n",
    "\n"
   ]
  },
  {
   "cell_type": "code",
   "execution_count": 30,
   "metadata": {
    "collapsed": false
   },
   "outputs": [
    {
     "name": "stdout",
     "output_type": "stream",
     "text": [
      "Student data read successfully!\n"
     ]
    }
   ],
   "source": [
    "# Read student data\n",
    "student_data = pd.read_csv(\"student_data.csv\")\n",
    "print \"Student data read successfully!\"\n",
    "# Note: The last column 'passed' is the target/label, all other are feature columns"
   ]
  },
  {
   "cell_type": "markdown",
   "metadata": {},
   "source": [
    "Now, can you find out the following facts about the dataset?\n",
    "- Total number of students\n",
    "- Number of students who passed\n",
    "- Number of students who failed\n",
    "- Graduation rate of the class (%)\n",
    "- Number of features\n",
    "\n",
    "_Use the code block below to compute these values. Instructions/steps are marked using **TODO**s._"
   ]
  },
  {
   "cell_type": "code",
   "execution_count": 31,
   "metadata": {
    "collapsed": false
   },
   "outputs": [
    {
     "name": "stdout",
     "output_type": "stream",
     "text": [
      "Total number of students: 395\n",
      "Number of students who passed: 265\n",
      "Number of students who failed: 130\n",
      "Number of features: 31\n",
      "Graduation rate of the class: 0.67%\n"
     ]
    }
   ],
   "source": [
    "# TODO: Compute desired values - replace each '?' with an appropriate expression/function call\n",
    "n_students = len(student_data.index) \n",
    "n_features = len(student_data.axes[1])\n",
    "n_passed = len(student_data[student_data.passed == 'yes'])\n",
    "n_failed = len(student_data[student_data.passed == 'no'])\n",
    "grad_rate = float(n_passed) / float(n_students)\n",
    "print \"Total number of students: {}\".format(n_students)\n",
    "print \"Number of students who passed: {}\".format(n_passed)\n",
    "print \"Number of students who failed: {}\".format(n_failed)\n",
    "print \"Number of features: {}\".format(n_features)\n",
    "print \"Graduation rate of the class: {:.2f}%\".format(grad_rate)"
   ]
  },
  {
   "cell_type": "markdown",
   "metadata": {},
   "source": [
    "## 3. Preparing the Data\n",
    "In this section, we will prepare the data for modeling, training and testing.\n",
    "\n",
    "### Identify feature and target columns\n",
    "It is often the case that the data you obtain contains non-numeric features. This can be a problem, as most machine learning algorithms expect numeric data to perform computations with.\n",
    "\n",
    "Let's first separate our data into feature and target columns, and see if any features are non-numeric.<br/>\n",
    "**Note**: For this dataset, the last column (`'passed'`) is the target or label we are trying to predict."
   ]
  },
  {
   "cell_type": "code",
   "execution_count": 32,
   "metadata": {
    "collapsed": false
   },
   "outputs": [
    {
     "name": "stdout",
     "output_type": "stream",
     "text": [
      "Feature column(s):-\n",
      "['school', 'sex', 'age', 'address', 'famsize', 'Pstatus', 'Medu', 'Fedu', 'Mjob', 'Fjob', 'reason', 'guardian', 'traveltime', 'studytime', 'failures', 'schoolsup', 'famsup', 'paid', 'activities', 'nursery', 'higher', 'internet', 'romantic', 'famrel', 'freetime', 'goout', 'Dalc', 'Walc', 'health', 'absences']\n",
      "Target column: passed\n",
      "\n",
      "Feature values:-\n",
      "  school sex  age address famsize Pstatus  Medu  Fedu     Mjob      Fjob  \\\n",
      "0     GP   F   18       U     GT3       A     4     4  at_home   teacher   \n",
      "1     GP   F   17       U     GT3       T     1     1  at_home     other   \n",
      "2     GP   F   15       U     LE3       T     1     1  at_home     other   \n",
      "3     GP   F   15       U     GT3       T     4     2   health  services   \n",
      "4     GP   F   16       U     GT3       T     3     3    other     other   \n",
      "\n",
      "    ...    higher internet  romantic  famrel  freetime goout Dalc Walc health  \\\n",
      "0   ...       yes       no        no       4         3     4    1    1      3   \n",
      "1   ...       yes      yes        no       5         3     3    1    1      3   \n",
      "2   ...       yes      yes        no       4         3     2    2    3      3   \n",
      "3   ...       yes      yes       yes       3         2     2    1    1      5   \n",
      "4   ...       yes       no        no       4         3     2    1    2      5   \n",
      "\n",
      "  absences  \n",
      "0        6  \n",
      "1        4  \n",
      "2       10  \n",
      "3        2  \n",
      "4        4  \n",
      "\n",
      "[5 rows x 30 columns]\n"
     ]
    }
   ],
   "source": [
    "# Extract feature (X) and target (y) columns\n",
    "feature_cols = list(student_data.columns[:-1])  # all columns but last are features\n",
    "target_col = student_data.columns[-1]  # last column is the target/label\n",
    "print \"Feature column(s):-\\n{}\".format(feature_cols)\n",
    "print \"Target column: {}\".format(target_col)\n",
    "\n",
    "X_all = student_data[feature_cols]  # feature values for all students\n",
    "y_all = student_data[target_col]  # corresponding targets/labels\n",
    "print \"\\nFeature values:-\"\n",
    "print X_all.head()  # print the first 5 rows\n"
   ]
  },
  {
   "cell_type": "markdown",
   "metadata": {},
   "source": [
    "### Preprocess feature columns\n",
    "\n",
    "As you can see, there are several non-numeric columns that need to be converted! Many of them are simply `yes`/`no`, e.g. `internet`. These can be reasonably converted into `1`/`0` (binary) values.\n",
    "\n",
    "Other columns, like `Mjob` and `Fjob`, have more than two values, and are known as _categorical variables_. The recommended way to handle such a column is to create as many columns as possible values (e.g. `Fjob_teacher`, `Fjob_other`, `Fjob_services`, etc.), and assign a `1` to one of them and `0` to all others.\n",
    "\n",
    "These generated columns are sometimes called _dummy variables_, and we will use the [`pandas.get_dummies()`](http://pandas.pydata.org/pandas-docs/stable/generated/pandas.get_dummies.html?highlight=get_dummies#pandas.get_dummies) function to perform this transformation."
   ]
  },
  {
   "cell_type": "code",
   "execution_count": 33,
   "metadata": {
    "collapsed": false
   },
   "outputs": [
    {
     "name": "stdout",
     "output_type": "stream",
     "text": [
      "Processed feature columns (48):-\n",
      "['school_GP', 'school_MS', 'sex_F', 'sex_M', 'age', 'address_R', 'address_U', 'famsize_GT3', 'famsize_LE3', 'Pstatus_A', 'Pstatus_T', 'Medu', 'Fedu', 'Mjob_at_home', 'Mjob_health', 'Mjob_other', 'Mjob_services', 'Mjob_teacher', 'Fjob_at_home', 'Fjob_health', 'Fjob_other', 'Fjob_services', 'Fjob_teacher', 'reason_course', 'reason_home', 'reason_other', 'reason_reputation', 'guardian_father', 'guardian_mother', 'guardian_other', 'traveltime', 'studytime', 'failures', 'schoolsup', 'famsup', 'paid', 'activities', 'nursery', 'higher', 'internet', 'romantic', 'famrel', 'freetime', 'goout', 'Dalc', 'Walc', 'health', 'absences']\n"
     ]
    }
   ],
   "source": [
    "# Preprocess feature columns\n",
    "def preprocess_features(X):\n",
    "    outX = pd.DataFrame(index=X.index)  # output dataframe, initially empty\n",
    "\n",
    "    # Check each column\n",
    "    for col, col_data in X.iteritems():\n",
    "        # If data type is non-numeric, try to replace all yes/no values with 1/0\n",
    "        if col_data.dtype == object:\n",
    "            col_data = col_data.replace(['yes', 'no'], [1, 0])\n",
    "        # Note: This should change the data type for yes/no columns to int\n",
    "\n",
    "        # If still non-numeric, convert to one or more dummy variables\n",
    "        if col_data.dtype == object:\n",
    "            col_data = pd.get_dummies(col_data, prefix=col)  # e.g. 'school' => 'school_GP', 'school_MS'\n",
    "\n",
    "        outX = outX.join(col_data)  # collect column(s) in output dataframe\n",
    "\n",
    "    return outX\n",
    "\n",
    "X_all = preprocess_features(X_all)\n",
    "print \"Processed feature columns ({}):-\\n{}\".format(len(X_all.columns), list(X_all.columns))\n",
    "\n",
    "def preprocess_y(y):\n",
    "    for index, value in y.iteritems():\n",
    "        if value == \"yes\":\n",
    "            y.loc[index] = 1\n",
    "        else:\n",
    "            y.loc[index] = 0\n",
    "    return y.astype(int)\n",
    "\n",
    "y_all = preprocess_y(y_all)"
   ]
  },
  {
   "cell_type": "markdown",
   "metadata": {},
   "source": [
    "## Split data into training and test sets\n",
    "\n",
    "So far, we have converted all _categorical_ features into numeric values. In this next step, we split the data (both features and corresponding labels) into training and test sets."
   ]
  },
  {
   "cell_type": "code",
   "execution_count": 34,
   "metadata": {
    "collapsed": false,
    "scrolled": true
   },
   "outputs": [
    {
     "name": "stdout",
     "output_type": "stream",
     "text": [
      "Training set: 296 samples\n",
      "Test set: 99 samples\n"
     ]
    }
   ],
   "source": [
    "# First, decide how many training vs test samples you want\n",
    "num_all = student_data.shape[0]  # same as len(student_data)\n",
    "num_train = 300  # about 75% of the data\n",
    "num_test = num_all - num_train\n",
    "\n",
    "\n",
    "\n",
    "# TODO: Then, select features (X) and corresponding labels (y) for the training and test sets\n",
    "# Note: Shuffle the data or randomly select samples to avoid any bias due to ordering in the dataset\n",
    "\n",
    "#I wrapped this in a method because later I will run multiple tests in order deal with the variability in random splits\n",
    "def split_data_intro_train_test(X_all,y_all):\n",
    "    X_train, X_test, y_train, y_test = cross_validation.train_test_split(\n",
    "        X_all, y_all, test_size=0.25)\n",
    "    return X_train, X_test, y_train, y_test\n",
    "\n",
    "X_train, X_test, y_train, y_test = split_data_intro_train_test(X_all,y_all)\n",
    "\n",
    "#standardize data , important for some future classifiers\n",
    "from sklearn import preprocessing\n",
    "scaler = preprocessing.StandardScaler().fit(X_train)\n",
    "X_train = scaler.transform(X_train)\n",
    "X_test = scaler.transform(X_test)\n",
    "\n",
    "print \"Training set: {} samples\".format(X_train.shape[0])\n",
    "print \"Test set: {} samples\".format(X_test.shape[0])\n",
    "# Note: If you need a validation set, extract it from within training data"
   ]
  },
  {
   "cell_type": "markdown",
   "metadata": {},
   "source": [
    "## 4. Training and Evaluating Models\n",
    "Choose 3 supervised learning models that are available in scikit-learn, and appropriate for this problem. For each model:\n",
    "\n",
    "- What is the theoretical O(n) time & space complexity in terms of input size?\n",
    "- What are the general applications of this model? What are its strengths and weaknesses?\n",
    "- Given what you know about the data so far, why did you choose this model to apply?\n",
    "- Fit this model to the training data, try to predict labels (for both training and test sets), and measure the F<sub>1</sub> score. Repeat this process with different training set sizes (100, 200, 300), keeping test set constant.\n",
    "\n",
    "Produce a table showing training time, prediction time, F<sub>1</sub> score on training set and F<sub>1</sub> score on test set, for each training set size.\n",
    "\n",
    "Note: You need to produce 3 such tables - one for each model."
   ]
  },
  {
   "cell_type": "code",
   "execution_count": 35,
   "metadata": {
    "collapsed": false
   },
   "outputs": [
    {
     "name": "stdout",
     "output_type": "stream",
     "text": [
      "Training SVC...\n",
      "Done!\n",
      "Training time (secs): 0.008\n",
      "SVC(C=1.0, cache_size=200, class_weight=None, coef0=0.0,\n",
      "  decision_function_shape=None, degree=3, gamma='auto', kernel='rbf',\n",
      "  max_iter=-1, probability=False, random_state=None, shrinking=True,\n",
      "  tol=0.001, verbose=False)\n"
     ]
    }
   ],
   "source": [
    "# Train a model\n",
    "import time\n",
    "\n",
    "def train_classifier(clf, X_train, y_train):\n",
    "    print \"Training {}...\".format(clf.__class__.__name__)\n",
    "    start = time.time()\n",
    "    clf.fit(X_train, y_train)\n",
    "    end = time.time()\n",
    "    print \"Done!\\nTraining time (secs): {:.3f}\".format(end - start)\n",
    "\n",
    "# TODO: Choose a model, import it and instantiate an object\n",
    "from sklearn import svm\n",
    "clf = svm.SVC()\n",
    "\n",
    "# Fit model to training data\n",
    "train_classifier(clf, X_train, y_train)  # note: using entire training set here\n",
    "#print clf  # you can inspect the learned model by printing it\n",
    "print clf"
   ]
  },
  {
   "cell_type": "code",
   "execution_count": 36,
   "metadata": {
    "collapsed": false
   },
   "outputs": [
    {
     "name": "stdout",
     "output_type": "stream",
     "text": [
      "Predicting labels using SVC...\n",
      "Done!\n",
      "Prediction time (secs): 0.012\n",
      "F1 score for training set: 0.898617511521\n"
     ]
    }
   ],
   "source": [
    "# Predict on training set and compute F1 score\n",
    "from sklearn.metrics import f1_score\n",
    "\n",
    "\n",
    "def predict_labels(clf, features, target):\n",
    "    print \"Predicting labels using {}...\".format(clf.__class__.__name__)\n",
    "    start = time.time()\n",
    "    y_pred = clf.predict(features)\n",
    "    end = time.time()\n",
    "    print \"Done!\\nPrediction time (secs): {:.3f}\".format(end - start)\n",
    "    #print target[:]\n",
    "    return f1_score(target, y_pred, pos_label=1) #changed 'yes' for 1\n",
    "\n",
    "train_f1_score = predict_labels(clf, X_train, y_train)\n",
    "print \"F1 score for training set: {}\".format(train_f1_score)"
   ]
  },
  {
   "cell_type": "code",
   "execution_count": 37,
   "metadata": {
    "collapsed": false
   },
   "outputs": [
    {
     "name": "stdout",
     "output_type": "stream",
     "text": [
      "Predicting labels using SVC...\n",
      "Done!\n",
      "Prediction time (secs): 0.003\n",
      "F1 score for test set: 0.835443037975\n"
     ]
    }
   ],
   "source": [
    "# Predict on test data\n",
    "print \"F1 score for test set: {}\".format(predict_labels(clf, X_test, y_test))"
   ]
  },
  {
   "cell_type": "code",
   "execution_count": 38,
   "metadata": {
    "collapsed": false,
    "scrolled": true
   },
   "outputs": [],
   "source": [
    "# Train and predict using different training set sizes\n",
    "def train_predict(clf, X_train, y_train, X_test, y_test):\n",
    "    print \"------------------------------------------\"\n",
    "    training_sizes = [100,200,300]\n",
    "    for x in training_sizes:\n",
    "        X_train_temp = X_train[:x]\n",
    "        y_train_temp = y_train[:x]\n",
    "        print \"Training set size: {}\".format(len(X_train_temp))\n",
    "        train_classifier(clf, X_train_temp, y_train_temp)\n",
    "        print \"F1 score for training set: {}\".format(predict_labels(clf, X_train_temp, y_train_temp))\n",
    "        print \"F1 score for test set: {}\\n\".format(predict_labels(clf, X_test, y_test))\n",
    "\n",
    "    \n",
    "# TODO: Run the helper function above for desired subsets of training data\n",
    "# Note: Keep the test set constant"
   ]
  },
  {
   "cell_type": "code",
   "execution_count": 39,
   "metadata": {
    "collapsed": true
   },
   "outputs": [],
   "source": [
    "#We are getting variability in results due to the randomness of data in train/ test splits.  \n",
    "# In order to smooth this out we will run this test 10 times,\n",
    "# each time with a new random split for train /test.  Mean will be reported.\n",
    "       \n",
    "def train_classifier_silent(clf, X_train, y_train):\n",
    "    start = time.time()\n",
    "    clf.fit(X_train, y_train)\n",
    "    end = time.time()\n",
    "    return (end - start)\n",
    "\n",
    "def predict_labels_silent(clf, features, target):\n",
    "    start = time.time()\n",
    "    y_pred = clf.predict(features)\n",
    "    end = time.time()\n",
    "    \n",
    "    time_to_predict = (end - start)\n",
    "    F1_score = f1_score(target, y_pred, pos_label=1) #changed 'yes' for 1\n",
    "    return time_to_predict, F1_score\n",
    "        \n",
    "def train_predict(clf, X_train, y_train, X_test, y_test, value_from_runs):\n",
    "    training_sizes = [100,200,300]\n",
    "    for x in training_sizes:\n",
    "        X_train_temp = X_train[:x]\n",
    "        y_train_temp = y_train[:x]\n",
    "        value_from_runs['training_times_%s'% x].append(train_classifier_silent(clf, X_train_temp, y_train_temp))\n",
    "        \n",
    "        time_to_predict_train, F1_train = predict_labels_silent(clf, X_train_temp, y_train_temp)\n",
    "        value_from_runs['predTime_train_%s' % x].append(time_to_predict_train)\n",
    "        value_from_runs['F1_train_%s' % x].append(F1_train)\n",
    "        \n",
    "        time_to_predict_test, F1_test =  predict_labels_silent(clf, X_test, y_test)\n",
    "        value_from_runs['predTime_test_%s' % x].append(time_to_predict_test)\n",
    "        value_from_runs['F1_test_%s' % x].append(F1_test)\n",
    "\n",
    "def get_mean_from_multiple_runs (clf, X_all, y_all, runs):\n",
    "    values_from_runs = {\n",
    "    'training_times_100' : [],\n",
    "    'training_times_200' : [],\n",
    "    'training_times_300' : [],\n",
    "    'predTime_train_100' : [],\n",
    "    'predTime_train_200' : [],\n",
    "    'predTime_train_300' : [],\n",
    "    'F1_train_100' : [],\n",
    "    'F1_train_200' : [],\n",
    "    'F1_train_300' :[],\n",
    "    'predTime_test_100' : [],\n",
    "    'predTime_test_200' : [],\n",
    "    'predTime_test_300' : [],\n",
    "    'F1_test_100' : [],\n",
    "    'F1_test_200' : [],\n",
    "    'F1_test_300' : [],\n",
    "    }\n",
    "    for i in range(runs):\n",
    "        X_train, X_test, y_train, y_test = split_data_intro_train_test(X_all,y_all)\n",
    "        train_predict(clf, X_train, y_train, X_test, y_test, values_from_runs)\n",
    "    values_from_runs = pd.DataFrame(values_from_runs)\n",
    "    return np.mean(values_from_runs)"
   ]
  },
  {
   "cell_type": "code",
   "execution_count": 40,
   "metadata": {
    "collapsed": false
   },
   "outputs": [
    {
     "name": "stdout",
     "output_type": "stream",
     "text": [
      "F1_test_100           0.796269\n",
      "F1_test_200           0.799968\n",
      "F1_test_300           0.800255\n",
      "F1_train_100          0.873815\n",
      "F1_train_200          0.872851\n",
      "F1_train_300          0.867183\n",
      "predTime_test_100     0.001258\n",
      "predTime_test_200     0.001819\n",
      "predTime_test_300     0.002228\n",
      "predTime_train_100    0.001217\n",
      "predTime_train_200    0.003420\n",
      "predTime_train_300    0.006704\n",
      "training_times_100    0.002026\n",
      "training_times_200    0.004884\n",
      "training_times_300    0.009327\n",
      "dtype: float64\n"
     ]
    }
   ],
   "source": [
    "clf = svm.SVC()\n",
    "clf_mean_values = get_mean_from_multiple_runs(clf, X_all, y_all, 100)\n",
    "print clf_mean_values"
   ]
  },
  {
   "cell_type": "code",
   "execution_count": 41,
   "metadata": {
    "collapsed": false
   },
   "outputs": [
    {
     "name": "stdout",
     "output_type": "stream",
     "text": [
      "F1_Score: 0.81 (+/- 0.03)\n"
     ]
    }
   ],
   "source": [
    "# sanity check on above work. I learned about stratified after I coded the above.\n",
    "\n",
    "def sanity_check_my_homebrew_work (clf, X_all, y_all, runs):\n",
    "    sss = cross_validation.StratifiedShuffleSplit(y_all, n_iter=100, test_size = .25)\n",
    "    f1_scorer = make_scorer(f1_score)\n",
    "    scores = cross_validation.cross_val_score(clf, X_all,  y_all, cv=sss, scoring = f1_scorer)\n",
    "    print \"F1_Score: %0.2f (+/- %0.2f)\" % (scores.mean(), scores.std() * 2)\n",
    "\n",
    "    \n",
    "clf = svm.SVC()\n",
    "sanity_check_my_homebrew_work(clf, X_all, y_all, 100)"
   ]
  },
  {
   "cell_type": "code",
   "execution_count": 42,
   "metadata": {
    "collapsed": false
   },
   "outputs": [
    {
     "name": "stdout",
     "output_type": "stream",
     "text": [
      "F1_test_100           0.774150\n",
      "F1_test_200           0.774770\n",
      "F1_test_300           0.779820\n",
      "F1_train_100          0.815950\n",
      "F1_train_200          0.822937\n",
      "F1_train_300          0.825737\n",
      "predTime_test_100     0.002152\n",
      "predTime_test_200     0.002975\n",
      "predTime_test_300     0.003611\n",
      "predTime_train_100    0.002270\n",
      "predTime_train_200    0.004764\n",
      "predTime_train_300    0.008936\n",
      "training_times_100    0.000996\n",
      "training_times_200    0.001412\n",
      "training_times_300    0.001307\n",
      "dtype: float64\n"
     ]
    }
   ],
   "source": [
    "# TODO: Train and predict using two other models\n",
    "from sklearn import neighbors\n",
    "clf = neighbors.KNeighborsClassifier(10)\n",
    "\n",
    "clf_mean_values = get_mean_from_multiple_runs(clf, X_all, y_all, 100)\n",
    "print clf_mean_values"
   ]
  },
  {
   "cell_type": "code",
   "execution_count": 43,
   "metadata": {
    "collapsed": false
   },
   "outputs": [
    {
     "name": "stdout",
     "output_type": "stream",
     "text": [
      "F1_Score: 0.78 (+/- 0.05)\n"
     ]
    }
   ],
   "source": [
    "clf = neighbors.KNeighborsClassifier(10)\n",
    "sanity_check_my_homebrew_work(clf, X_all, y_all, 100)"
   ]
  },
  {
   "cell_type": "code",
   "execution_count": 44,
   "metadata": {
    "collapsed": false
   },
   "outputs": [
    {
     "name": "stdout",
     "output_type": "stream",
     "text": [
      "F1_test_100           0.707672\n",
      "F1_test_200           0.703483\n",
      "F1_test_300           0.715090\n",
      "F1_train_100          1.000000\n",
      "F1_train_200          1.000000\n",
      "F1_train_300          1.000000\n",
      "predTime_test_100     0.000320\n",
      "predTime_test_200     0.000389\n",
      "predTime_test_300     0.000268\n",
      "predTime_train_100    0.000343\n",
      "predTime_train_200    0.000376\n",
      "predTime_train_300    0.000429\n",
      "training_times_100    0.001164\n",
      "training_times_200    0.002005\n",
      "training_times_300    0.002560\n",
      "dtype: float64\n"
     ]
    }
   ],
   "source": [
    "from sklearn import tree\n",
    "clf = tree.DecisionTreeClassifier()\n",
    "\n",
    "clf_mean_values = get_mean_from_multiple_runs(clf, X_all, y_all, 100)\n",
    "print clf_mean_values"
   ]
  },
  {
   "cell_type": "code",
   "execution_count": 45,
   "metadata": {
    "collapsed": false
   },
   "outputs": [
    {
     "name": "stdout",
     "output_type": "stream",
     "text": [
      "F1_Score: 0.71 (+/- 0.08)\n"
     ]
    }
   ],
   "source": [
    "clf = tree.DecisionTreeClassifier()\n",
    "sanity_check_my_homebrew_work(clf, X_all, y_all, 100)"
   ]
  },
  {
   "cell_type": "markdown",
   "metadata": {},
   "source": [
    "# 5. Choosing the Best Model\n",
    "\n",
    "- Based on the experiments you performed earlier, in 1-2 paragraphs explain to the board of supervisors what single model you chose as the best model. Which model is generally the most appropriate based on the available data, limited resources, cost, and performance?\n",
    "- In 1-2 paragraphs explain to the board of supervisors in layman's terms how the final model chosen is supposed to work (for example if you chose a Decision Tree or Support Vector Machine, how does it make a prediction).\n",
    "- Fine-tune the model. Use Gridsearch with at least one important parameter tuned and with at least 3 settings. Use the entire training set for this.\n",
    "- What is the model's final F<sub>1</sub> score?"
   ]
  },
  {
   "cell_type": "code",
   "execution_count": 24,
   "metadata": {
    "collapsed": false
   },
   "outputs": [
    {
     "name": "stdout",
     "output_type": "stream",
     "text": [
      "Grid Search Complete\n"
     ]
    }
   ],
   "source": [
    "# TODO: Fine-tune your model and report the best F1 score\n",
    "from sklearn.metrics import make_scorer\n",
    "from sklearn.grid_search import GridSearchCV\n",
    "\n",
    "scaler = preprocessing.StandardScaler().fit(X_all)\n",
    "X_all_scaled = scaler.transform(X_all)\n",
    "\n",
    "f1_scorer = make_scorer(f1_score)\n",
    "\n",
    "param_grid = [\n",
    "  {'C': [1, 10, 100, 1000], 'kernel': ['linear']},\n",
    "  {'C': [1, 10, 100, 1000], 'gamma': [0.001, 0.0001], 'kernel': ['rbf']},\n",
    "  {'C': [1, 10, 100, 1000], 'kernel':['sigmoid']}\n",
    " ]\n",
    "\n",
    "clf = GridSearchCV(svm.SVC(), param_grid, cv=10, scoring = f1_scorer)\n",
    "clf.fit(X_all_scaled, y_all)\n",
    "\n",
    "print \"Grid Search Complete\""
   ]
  },
  {
   "cell_type": "code",
   "execution_count": 25,
   "metadata": {
    "collapsed": false,
    "scrolled": true
   },
   "outputs": [
    {
     "name": "stdout",
     "output_type": "stream",
     "text": [
      "[mean: 0.76860, std: 0.03728, params: {'kernel': 'linear', 'C': 1}, mean: 0.76995, std: 0.03682, params: {'kernel': 'linear', 'C': 10}, mean: 0.76995, std: 0.03682, params: {'kernel': 'linear', 'C': 100}, mean: 0.76995, std: 0.03682, params: {'kernel': 'linear', 'C': 1000}, mean: 0.80302, std: 0.00299, params: {'kernel': 'rbf', 'C': 1, 'gamma': 0.001}, mean: 0.80302, std: 0.00299, params: {'kernel': 'rbf', 'C': 1, 'gamma': 0.0001}, mean: 0.80535, std: 0.03336, params: {'kernel': 'rbf', 'C': 10, 'gamma': 0.001}, mean: 0.80302, std: 0.00299, params: {'kernel': 'rbf', 'C': 10, 'gamma': 0.0001}, mean: 0.76832, std: 0.04351, params: {'kernel': 'rbf', 'C': 100, 'gamma': 0.001}, mean: 0.79917, std: 0.03998, params: {'kernel': 'rbf', 'C': 100, 'gamma': 0.0001}, mean: 0.71831, std: 0.09778, params: {'kernel': 'rbf', 'C': 1000, 'gamma': 0.001}, mean: 0.77954, std: 0.03259, params: {'kernel': 'rbf', 'C': 1000, 'gamma': 0.0001}, mean: 0.80302, std: 0.00299, params: {'kernel': 'sigmoid', 'C': 1}, mean: 0.80302, std: 0.00299, params: {'kernel': 'sigmoid', 'C': 10}, mean: 0.80302, std: 0.00299, params: {'kernel': 'sigmoid', 'C': 100}, mean: 0.80302, std: 0.00299, params: {'kernel': 'sigmoid', 'C': 1000}]\n",
      "\n",
      "The best score is :  0.805348582885\n",
      "\n",
      "The best parameters are:  {'kernel': 'rbf', 'C': 10, 'gamma': 0.001}\n"
     ]
    }
   ],
   "source": [
    "print clf.grid_scores_\n",
    "print ''\n",
    "print \"The best score is : \", clf.best_score_\n",
    "print ''\n",
    "print \"The best parameters are: \", clf.best_params_\n"
   ]
  },
  {
   "cell_type": "code",
   "execution_count": 46,
   "metadata": {
    "collapsed": false
   },
   "outputs": [],
   "source": [
    "# Training Tests with Dummy data, in order to see how training / predict times will scale on different\n",
    "# algorithms\n",
    "\n",
    "#initialize z_all , 100000 training samples of random numbers, 48 features to match X_all\n",
    "Z_all = pd.DataFrame(np.random.randn(100000, 48), columns = X_all.columns)\n",
    "GiantX_all = pd.concat([X_all, Z_all])\n",
    "\n",
    "#initialize fake_answers, should produce a vector of binary 0's or 1's. ranomdly  add to y_all\n",
    "fake_answers = np.random.randint(2, size= 100000)\n",
    "add_to_y = pd.DataFrame(fake_answers)\n",
    "gianty_all = y_all.append(add_to_y)\n",
    "\n",
    "#data set for these tests will now be GiantX_all and gianty_all\n"
   ]
  },
  {
   "cell_type": "code",
   "execution_count": 48,
   "metadata": {
    "collapsed": false
   },
   "outputs": [
    {
     "name": "stdout",
     "output_type": "stream",
     "text": [
      "Training SVC...\n",
      "Done!\n",
      "Training time (secs): 824.998\n"
     ]
    },
    {
     "name": "stderr",
     "output_type": "stream",
     "text": [
      "/usr/local/lib/python2.7/site-packages/sklearn/svm/base.py:514: DataConversionWarning: A column-vector y was passed when a 1d array was expected. Please change the shape of y to (n_samples, ), for example using ravel().\n",
      "  y_ = column_or_1d(y, warn=True)\n"
     ]
    }
   ],
   "source": [
    "#find training times on SVC with 75k samples.\n",
    "X_train, X_test, y_train, y_test = split_data_intro_train_test(GiantX_all, gianty_all)\n",
    "\n",
    "scaler = preprocessing.StandardScaler().fit(X_train)\n",
    "X_train = scaler.transform(X_train)\n",
    "\n",
    "#SVC train and print times\n",
    "clf = svm.SVC()\n",
    "train_classifier(clf, X_train, y_train)\n"
   ]
  },
  {
   "cell_type": "code",
   "execution_count": 49,
   "metadata": {
    "collapsed": false
   },
   "outputs": [
    {
     "name": "stdout",
     "output_type": "stream",
     "text": [
      "Predicting labels using SVC...\n",
      "Done!\n",
      "Prediction time (secs): 483.422\n"
     ]
    },
    {
     "data": {
      "text/plain": [
       "0.73302070709731815"
      ]
     },
     "execution_count": 49,
     "metadata": {},
     "output_type": "execute_result"
    }
   ],
   "source": [
    "#SVC predict and print times, use training data for larger size.\n",
    "predict_labels(clf, X_train, y_train)"
   ]
  },
  {
   "cell_type": "code",
   "execution_count": 50,
   "metadata": {
    "collapsed": false
   },
   "outputs": [
    {
     "name": "stdout",
     "output_type": "stream",
     "text": [
      "Training KNeighborsClassifier...\n",
      "Done!\n",
      "Training time (secs): 0.456\n"
     ]
    },
    {
     "name": "stderr",
     "output_type": "stream",
     "text": [
      "/usr/local/lib/python2.7/site-packages/ipykernel/__main__.py:7: DataConversionWarning: A column-vector y was passed when a 1d array was expected. Please change the shape of y to (n_samples, ), for example using ravel().\n"
     ]
    }
   ],
   "source": [
    "#KNN train and print times\n",
    "clf = neighbors.KNeighborsClassifier(10)\n",
    "train_classifier(clf, X_train, y_train)"
   ]
  },
  {
   "cell_type": "code",
   "execution_count": 51,
   "metadata": {
    "collapsed": false
   },
   "outputs": [
    {
     "name": "stdout",
     "output_type": "stream",
     "text": [
      "Predicting labels using KNeighborsClassifier...\n",
      "Done!\n",
      "Prediction time (secs): 1257.372\n"
     ]
    },
    {
     "data": {
      "text/plain": [
       "0.57656577764459094"
      ]
     },
     "execution_count": 51,
     "metadata": {},
     "output_type": "execute_result"
    }
   ],
   "source": [
    "#KNN predict and print times\n",
    "predict_labels(clf, X_train, y_train)"
   ]
  },
  {
   "cell_type": "code",
   "execution_count": 52,
   "metadata": {
    "collapsed": false
   },
   "outputs": [
    {
     "name": "stdout",
     "output_type": "stream",
     "text": [
      "Training DecisionTreeClassifier...\n",
      "Done!\n",
      "Training time (secs): 14.793\n"
     ]
    }
   ],
   "source": [
    "#DT train and print times\n",
    "clf = tree.DecisionTreeClassifier()\n",
    "train_classifier(clf, X_train, y_train)"
   ]
  },
  {
   "cell_type": "code",
   "execution_count": 53,
   "metadata": {
    "collapsed": false
   },
   "outputs": [
    {
     "name": "stdout",
     "output_type": "stream",
     "text": [
      "Predicting labels using DecisionTreeClassifier...\n",
      "Done!\n",
      "Prediction time (secs): 0.041\n"
     ]
    },
    {
     "data": {
      "text/plain": [
       "1.0"
      ]
     },
     "execution_count": 53,
     "metadata": {},
     "output_type": "execute_result"
    }
   ],
   "source": [
    "#DT predict and print times\n",
    "predict_labels(clf, X_train, y_train)"
   ]
  },
  {
   "cell_type": "code",
   "execution_count": null,
   "metadata": {
    "collapsed": true
   },
   "outputs": [],
   "source": []
  }
 ],
 "metadata": {
  "kernelspec": {
   "display_name": "Python 2",
   "language": "python",
   "name": "python2"
  },
  "language_info": {
   "codemirror_mode": {
    "name": "ipython",
    "version": 2
   },
   "file_extension": ".py",
   "mimetype": "text/x-python",
   "name": "python",
   "nbconvert_exporter": "python",
   "pygments_lexer": "ipython2",
   "version": "2.7.11"
  }
 },
 "nbformat": 4,
 "nbformat_minor": 0
}
